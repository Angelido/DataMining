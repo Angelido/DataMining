{
 "cells": [
  {
   "cell_type": "markdown",
   "metadata": {},
   "source": [
    "# Task 3: Classification"
   ]
  },
  {
   "cell_type": "markdown",
   "metadata": {},
   "source": [
    "The aim of this notebook is to perform a **predictive analysis** in order to classify our customers in three categories (high-spending, low-spending and medium-spending) on the basis of their shopping behaviour.\n",
    "\n",
    "We will run, compare and discuss the performance of **10 different models**:\n",
    "\n",
    "**Neighbors-based classifiers**\n",
    "- K-Nearest Neighbors\n",
    "- Radius-Neighbors\n",
    "\n",
    "**Naive Bayes classifiers**\n",
    "- Gaussian Naive Bayes\n",
    "- Multinomial Naive Bayes\n",
    "\n",
    "**Support Vector Machine**\n",
    "- Support Vector Classification\n",
    "\n",
    "**Machine Learning classifiers**\n",
    "- Feed-forward Neural Network\n",
    "- Multi-layer Perceptron\n",
    "\n",
    "**Tree-based classifiers**\n",
    "- Decision tree\n",
    "\n",
    "**Ensemble Method**\n",
    "- Random forest\n",
    "- Voting classifier\n",
    "\n",
    "At the end of this notebook, we propose an alternative classification having the label based on the clustering result of with DBSCAN.\n",
    "In fact, given that this algorithm had already identified clusters of clients grouped according to their shopping behavior, we believe that it may be interesting to present this second analysis (in addition to the first one based on the Savg attribute) and show a comparison between the two approaches.\n",
    "This second analysis will be performed on all the ten proposed classifiers."
   ]
  },
  {
   "cell_type": "markdown",
   "metadata": {},
   "source": [
    "### Import basic libraries"
   ]
  },
  {
   "cell_type": "code",
   "execution_count": null,
   "metadata": {},
   "outputs": [],
   "source": [
    "import statistics \n",
    "import pandas as pd\n",
    "import numpy as np\n",
    "import matplotlib.pyplot as plt\n",
    "from sklearn import metrics"
   ]
  },
  {
   "cell_type": "markdown",
   "metadata": {},
   "source": [
    "### Import dataset"
   ]
  },
  {
   "cell_type": "code",
   "execution_count": null,
   "metadata": {},
   "outputs": [],
   "source": [
    "incidents = pd.read_csv('Data/incidents.csv')\n",
    "poverty = pd.read_csv('Data/povertyByStateYear.csv') \n",
    "district=pd.read_csv('Data/year_state_district_house.csv')\n",
    "\n",
    "pd.options.display.max_columns = None"
   ]
  }
 ],
 "metadata": {
  "language_info": {
   "name": "python"
  }
 },
 "nbformat": 4,
 "nbformat_minor": 2
}
